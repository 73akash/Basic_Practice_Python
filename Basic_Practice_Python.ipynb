{
 "cells": [
  {
   "cell_type": "markdown",
   "id": "62126476",
   "metadata": {},
   "source": [
    "# String"
   ]
  },
  {
   "cell_type": "code",
   "execution_count": 1,
   "id": "8d95601d",
   "metadata": {},
   "outputs": [
    {
     "name": "stdout",
     "output_type": "stream",
     "text": [
      "Enter name here Avi\n",
      "hello Avi\n"
     ]
    }
   ],
   "source": [
    "# 1. take name as input and say hello\n",
    "\n",
    "name = input(\"Enter name here \")\n",
    "print(f'hello {name}')"
   ]
  },
  {
   "cell_type": "code",
   "execution_count": 2,
   "id": "fe7e8a0e",
   "metadata": {},
   "outputs": [
    {
     "data": {
      "text/plain": [
       "2"
      ]
     },
     "execution_count": 2,
     "metadata": {},
     "output_type": "execute_result"
    }
   ],
   "source": [
    "# 2. From below string print count of \"Is\".\n",
    "string = \"He is Amol and she is Chaitali\"\n",
    "\n",
    "string.count(\"is\")"
   ]
  },
  {
   "cell_type": "code",
   "execution_count": 3,
   "id": "0d45172f",
   "metadata": {},
   "outputs": [
    {
     "data": {
      "text/plain": [
       "['Data', 'is', 'new', 'oil']"
      ]
     },
     "execution_count": 3,
     "metadata": {},
     "output_type": "execute_result"
    }
   ],
   "source": [
    "# 3. from below string split the words by space\n",
    "string = \"Data is new oil\"\n",
    "\n",
    "string.split(' ')"
   ]
  },
  {
   "cell_type": "code",
   "execution_count": 4,
   "id": "2c4c7362",
   "metadata": {},
   "outputs": [
    {
     "data": {
      "text/plain": [
       "'Data=is=new=oil'"
      ]
     },
     "execution_count": 4,
     "metadata": {},
     "output_type": "execute_result"
    }
   ],
   "source": [
    "# 4. now from below list, join all words by \"=\" and create a sentence.\n",
    "list_1 = [\"Data\", \"is\", \"new\", \"oil\"]\n",
    "\n",
    "sentence = \"=\".join(list_1)\n",
    "sentence"
   ]
  },
  {
   "cell_type": "code",
   "execution_count": 5,
   "id": "4f080a8a",
   "metadata": {},
   "outputs": [
    {
     "data": {
      "text/plain": [
       "'I love programming in Python.'"
      ]
     },
     "execution_count": 5,
     "metadata": {},
     "output_type": "execute_result"
    }
   ],
   "source": [
    "# 5. from below string replace \"Java\" with \"Python\"\n",
    "sentence = \"I love programming in Java.\"\n",
    "\n",
    "sentence.replace(\"Java\", \"Python\")"
   ]
  },
  {
   "cell_type": "code",
   "execution_count": 6,
   "id": "b4206b47",
   "metadata": {},
   "outputs": [
    {
     "data": {
      "text/plain": [
       "'This is a message with spaces.'"
      ]
     },
     "execution_count": 6,
     "metadata": {},
     "output_type": "execute_result"
    }
   ],
   "source": [
    "# 6. from below string remove(strip) additional spaces and print it\n",
    "message = \"   This is a message with spaces.   \"\n",
    "\n",
    "message.strip()"
   ]
  },
  {
   "cell_type": "code",
   "execution_count": 7,
   "id": "0306a31e",
   "metadata": {},
   "outputs": [
    {
     "data": {
      "text/plain": [
       "10"
      ]
     },
     "execution_count": 7,
     "metadata": {},
     "output_type": "execute_result"
    }
   ],
   "source": [
    "#7. From below string find postion(start index) of \"sample\"\n",
    "sentence = \"This is a sample sentence.\"\n",
    "\n",
    "sentence.index(\"sample\")"
   ]
  },
  {
   "cell_type": "code",
   "execution_count": 8,
   "id": "711472b3",
   "metadata": {},
   "outputs": [
    {
     "data": {
      "text/plain": [
       "14"
      ]
     },
     "execution_count": 8,
     "metadata": {},
     "output_type": "execute_result"
    }
   ],
   "source": [
    "#8. Given the string \"Python is fun!\", how can you calculate and print its length?\n",
    "text = \"Python is fun!\"\n",
    "\n",
    "len(text)"
   ]
  },
  {
   "cell_type": "code",
   "execution_count": 9,
   "id": "b2f87a23",
   "metadata": {},
   "outputs": [
    {
     "name": "stdout",
     "output_type": "stream",
     "text": [
      "elppaeniP\n"
     ]
    }
   ],
   "source": [
    "#9. Print below string in reverse order\n",
    "string = \"Pineapple\"\n",
    "\n",
    "reversed_string = string[::-1]\n",
    "print(reversed_string)"
   ]
  },
  {
   "cell_type": "code",
   "execution_count": 10,
   "id": "8752ec25",
   "metadata": {},
   "outputs": [
    {
     "data": {
      "text/plain": [
       "'Welcome To Python Programming.'"
      ]
     },
     "execution_count": 10,
     "metadata": {},
     "output_type": "execute_result"
    }
   ],
   "source": [
    "#10. Given the string \"Welcome to Python Programming.\", how can you capitalize the first letter of each word and print the modified string?\n",
    "text = \"Welcome to Python Programming.\"\n",
    "\n",
    "text.title()"
   ]
  },
  {
   "cell_type": "code",
   "execution_count": 11,
   "id": "6025cee3",
   "metadata": {},
   "outputs": [
    {
     "data": {
      "text/plain": [
       "'DATA IS NEW OIL'"
      ]
     },
     "execution_count": 11,
     "metadata": {},
     "output_type": "execute_result"
    }
   ],
   "source": [
    "#11. Convert all letter of string to Upper Case\n",
    "text = \"Data is new oil\"\n",
    "\n",
    "text.upper()"
   ]
  },
  {
   "cell_type": "code",
   "execution_count": 12,
   "id": "31fd1332",
   "metadata": {},
   "outputs": [
    {
     "data": {
      "text/plain": [
       "'I am learning python'"
      ]
     },
     "execution_count": 12,
     "metadata": {},
     "output_type": "execute_result"
    }
   ],
   "source": [
    "#12. From below string just convert first letter of string to upper case\n",
    "text = \"i am learning python\"\n",
    "\n",
    "text.capitalize()"
   ]
  },
  {
   "cell_type": "code",
   "execution_count": 13,
   "id": "0b90b426",
   "metadata": {},
   "outputs": [
    {
     "data": {
      "text/plain": [
       "'dAta IS nEw Oil'"
      ]
     },
     "execution_count": 13,
     "metadata": {},
     "output_type": "execute_result"
    }
   ],
   "source": [
    "#13. Convert all uppper case to lower and lower case to upper\n",
    "text = \"DaTA is NeW oIL\"\n",
    "\n",
    "text.swapcase()"
   ]
  },
  {
   "cell_type": "code",
   "execution_count": 14,
   "id": "6b48728d",
   "metadata": {},
   "outputs": [
    {
     "data": {
      "text/plain": [
       "50"
      ]
     },
     "execution_count": 14,
     "metadata": {},
     "output_type": "execute_result"
    }
   ],
   "source": [
    "#14. print the addition of below 2 integers\n",
    "a = 20\n",
    "b = 30\n",
    "\n",
    "c = a+b\n",
    "c"
   ]
  },
  {
   "cell_type": "code",
   "execution_count": 15,
   "id": "54888f51",
   "metadata": {},
   "outputs": [
    {
     "data": {
      "text/plain": [
       "'2030'"
      ]
     },
     "execution_count": 15,
     "metadata": {},
     "output_type": "execute_result"
    }
   ],
   "source": [
    "#15. print the additiono of below 2 strings\n",
    "a = \"20\"\n",
    "b = \"30\"\n",
    "\n",
    "c = a+b\n",
    "c"
   ]
  },
  {
   "cell_type": "markdown",
   "id": "d4262f95",
   "metadata": {},
   "source": [
    "# List"
   ]
  },
  {
   "cell_type": "code",
   "execution_count": 16,
   "id": "5772833e",
   "metadata": {},
   "outputs": [
    {
     "data": {
      "text/plain": [
       "[1, 2, 3, 44, 5]"
      ]
     },
     "execution_count": 16,
     "metadata": {},
     "output_type": "execute_result"
    }
   ],
   "source": [
    "## 16. From below list replace 4 with 44\n",
    "my_list = [1, 2, 3, 4, 5]\n",
    "\n",
    "my_list[-2] = 44\n",
    "my_list"
   ]
  },
  {
   "cell_type": "code",
   "execution_count": 17,
   "id": "4812b6f6",
   "metadata": {},
   "outputs": [
    {
     "data": {
      "text/plain": [
       "[1, 2, 200, 4, 5]"
      ]
     },
     "execution_count": 17,
     "metadata": {},
     "output_type": "execute_result"
    }
   ],
   "source": [
    "## 17. In below list add(insert) 200 at index 3\n",
    "my_list = [1, 2, 3, 4, 5]\n",
    "\n",
    "my_list[2] = 200\n",
    "my_list"
   ]
  },
  {
   "cell_type": "code",
   "execution_count": 18,
   "id": "89484911",
   "metadata": {},
   "outputs": [
    {
     "data": {
      "text/plain": [
       "[1, 2, 3, 4, 5, 66]"
      ]
     },
     "execution_count": 18,
     "metadata": {},
     "output_type": "execute_result"
    }
   ],
   "source": [
    "## 18. In below list add new number 66\n",
    "my_list = [1, 2, 3, 4, 5]\n",
    "\n",
    "my_list.append(66)\n",
    "my_list"
   ]
  },
  {
   "cell_type": "code",
   "execution_count": 19,
   "id": "e4babe82",
   "metadata": {},
   "outputs": [
    {
     "data": {
      "text/plain": [
       "[1, 2, 3, 4, 5, 66, 87, 99]"
      ]
     },
     "execution_count": 19,
     "metadata": {},
     "output_type": "execute_result"
    }
   ],
   "source": [
    "## 19 In below list insert new numbers 66,87,99\n",
    "my_list = [1, 2, 3, 4, 5]\n",
    "\n",
    "my_list.extend([66, 87, 99])\n",
    "my_list"
   ]
  },
  {
   "cell_type": "code",
   "execution_count": 20,
   "id": "1b8ea47c",
   "metadata": {},
   "outputs": [
    {
     "data": {
      "text/plain": [
       "[1, 2, 4, 5]"
      ]
     },
     "execution_count": 20,
     "metadata": {},
     "output_type": "execute_result"
    }
   ],
   "source": [
    "## 20. from below list remove number 3\n",
    "my_list = [1, 2, 3, 4, 5]\n",
    "my_list.remove(3)\n",
    "my_list"
   ]
  },
  {
   "cell_type": "code",
   "execution_count": 21,
   "id": "f981f0ad",
   "metadata": {},
   "outputs": [
    {
     "data": {
      "text/plain": [
       "2"
      ]
     },
     "execution_count": 21,
     "metadata": {},
     "output_type": "execute_result"
    }
   ],
   "source": [
    "## 21. From below list print count of \"cherry\"\n",
    "my_list = [1, 2.5, \"cherry\", 3, \"banana\", 4.0, \"cherry\"]\n",
    "\n",
    "my_list.count(\"cherry\")"
   ]
  },
  {
   "cell_type": "code",
   "execution_count": 22,
   "id": "2451a979",
   "metadata": {},
   "outputs": [
    {
     "data": {
      "text/plain": [
       "4"
      ]
     },
     "execution_count": 22,
     "metadata": {},
     "output_type": "execute_result"
    }
   ],
   "source": [
    "## 22. From below list print index of \"banana\"\n",
    "my_list = [1, 2.5, \"apple\", 3, \"banana\", 4.0, \"cherry\"]\n",
    "\n",
    "my_list.index(\"banana\")"
   ]
  },
  {
   "cell_type": "code",
   "execution_count": 23,
   "id": "5102ffd6",
   "metadata": {},
   "outputs": [
    {
     "data": {
      "text/plain": [
       "'Dehradun'"
      ]
     },
     "execution_count": 23,
     "metadata": {},
     "output_type": "execute_result"
    }
   ],
   "source": [
    "## 23. From below list remove last item\n",
    "my_list = [\"Pune\",\"Delhi\",\"Mumbai\",\"Indore\",\"Jaipur\",\"Dehradun\"]\n",
    "\n",
    "my_list.pop()"
   ]
  },
  {
   "cell_type": "code",
   "execution_count": 24,
   "id": "7b9b1946",
   "metadata": {},
   "outputs": [
    {
     "data": {
      "text/plain": [
       "['Apple', 'Banana', 'Cherry', 'Grapes', 'Mango']"
      ]
     },
     "execution_count": 24,
     "metadata": {},
     "output_type": "execute_result"
    }
   ],
   "source": [
    "## 24. Sort the below list in Alphabetical order\n",
    "my_list = [\"Grapes\",\"Apple\",\"Cherry\",\"Mango\",\"Banana\"]\n",
    "\n",
    "my_list.sort()\n",
    "my_list"
   ]
  },
  {
   "cell_type": "code",
   "execution_count": 25,
   "id": "99e2fb2d",
   "metadata": {},
   "outputs": [
    {
     "name": "stdout",
     "output_type": "stream",
     "text": [
      "['Apple', 'Banana', 'Cherry', 'Grapes', 'Mango']\n"
     ]
    },
    {
     "data": {
      "text/plain": [
       "['Mango', 'Grapes', 'Cherry', 'Banana', 'Apple']"
      ]
     },
     "execution_count": 25,
     "metadata": {},
     "output_type": "execute_result"
    }
   ],
   "source": [
    "## 25. Sort below list in reverse Alphabetical order\n",
    "my_list = [\"Grapes\",\"Apple\",\"Cherry\",\"Mango\",\"Banana\"]\n",
    "\n",
    "my_list.sort()\n",
    "print(my_list)\n",
    "\n",
    "rev_list = my_list[::-1]\n",
    "rev_list"
   ]
  },
  {
   "cell_type": "markdown",
   "id": "2eb99d27",
   "metadata": {},
   "source": [
    "# Assignment"
   ]
  },
  {
   "cell_type": "code",
   "execution_count": 26,
   "id": "b44cecce",
   "metadata": {},
   "outputs": [],
   "source": [
    "## 26.Create a list named myList that has three elements:\n",
    "# - The integer 3\n",
    "# - The string 'element number two'\n",
    "# - Another list ['last','element']\n",
    "#in that order.\n",
    "\n",
    "myList = [3, \"element number two\", ['last', 'element']]"
   ]
  },
  {
   "cell_type": "code",
   "execution_count": 27,
   "id": "fb4d6843",
   "metadata": {},
   "outputs": [
    {
     "data": {
      "text/plain": [
       "3"
      ]
     },
     "execution_count": 27,
     "metadata": {},
     "output_type": "execute_result"
    }
   ],
   "source": [
    "## 27.Print the third element of the following list.\n",
    "\n",
    "l = [1, 2, 3, 4, 5, 6, 7, 8, 9]\n",
    "l[2]"
   ]
  },
  {
   "cell_type": "code",
   "execution_count": 28,
   "id": "7f481079",
   "metadata": {},
   "outputs": [
    {
     "data": {
      "text/plain": [
       "['a', 'b', 16]"
      ]
     },
     "execution_count": 28,
     "metadata": {},
     "output_type": "execute_result"
    }
   ],
   "source": [
    "## 28. Modify the last element of this list so that its value is 16. Print the modified list so you know the operation was performed successfully\n",
    "\n",
    "listToModify = ['a', 'b', 'sixteen']\n",
    "listToModify[-1] = 16\n",
    "listToModify"
   ]
  },
  {
   "cell_type": "code",
   "execution_count": 29,
   "id": "e9e2dec3",
   "metadata": {},
   "outputs": [
    {
     "data": {
      "text/plain": [
       "8"
      ]
     },
     "execution_count": 29,
     "metadata": {},
     "output_type": "execute_result"
    }
   ],
   "source": [
    "## 29.Calculate the length of the following list.\n",
    "\n",
    "listToFindLength = ['this', 'is', 'the', 'list', 'whose', 'length', 'I', 'want']\n",
    "len(listToFindLength)"
   ]
  },
  {
   "cell_type": "code",
   "execution_count": 30,
   "id": "cd4a55fe",
   "metadata": {},
   "outputs": [
    {
     "data": {
      "text/plain": [
       "3622"
      ]
     },
     "execution_count": 30,
     "metadata": {},
     "output_type": "execute_result"
    }
   ],
   "source": [
    "## 30.Calculate the sum of the following list.\n",
    "\n",
    "intList = [54, 678, 2890]\n",
    "sum(intList)"
   ]
  },
  {
   "cell_type": "code",
   "execution_count": 31,
   "id": "7fa595f9",
   "metadata": {},
   "outputs": [
    {
     "data": {
      "text/plain": [
       "53245"
      ]
     },
     "execution_count": 31,
     "metadata": {},
     "output_type": "execute_result"
    }
   ],
   "source": [
    "## 31.Find the maximum value of the following list\n",
    "\n",
    "maxList = [677, 53245, 234, 236, 23456, 345, 23526, 3454]\n",
    "max(maxList)"
   ]
  },
  {
   "cell_type": "code",
   "execution_count": 32,
   "id": "5b1e2595",
   "metadata": {},
   "outputs": [
    {
     "data": {
      "text/plain": [
       "134"
      ]
     },
     "execution_count": 32,
     "metadata": {},
     "output_type": "execute_result"
    }
   ],
   "source": [
    "## 32.Find the minimum value of the following list.\n",
    "\n",
    "minList = [351, 984, 1697, 284, 134, 467, 164]\n",
    "min(minList)"
   ]
  },
  {
   "cell_type": "code",
   "execution_count": 33,
   "id": "2aabff89",
   "metadata": {},
   "outputs": [
    {
     "data": {
      "text/plain": [
       "[1, 2, 3, 'append me!']"
      ]
     },
     "execution_count": 33,
     "metadata": {},
     "output_type": "execute_result"
    }
   ],
   "source": [
    "## 33.Append the string 'append me!' to the end of the following list. Print the list to ensure the operation has been completed successfully.\n",
    "\n",
    "listToAppend = [1, 2, 3]\n",
    "listToAppend.append('append me!')\n",
    "listToAppend"
   ]
  },
  {
   "cell_type": "code",
   "execution_count": null,
   "id": "6527cbb7",
   "metadata": {},
   "outputs": [],
   "source": []
  },
  {
   "cell_type": "code",
   "execution_count": null,
   "id": "3a9a37c9",
   "metadata": {},
   "outputs": [],
   "source": []
  }
 ],
 "metadata": {
  "kernelspec": {
   "display_name": "Python 3 (ipykernel)",
   "language": "python",
   "name": "python3"
  },
  "language_info": {
   "codemirror_mode": {
    "name": "ipython",
    "version": 3
   },
   "file_extension": ".py",
   "mimetype": "text/x-python",
   "name": "python",
   "nbconvert_exporter": "python",
   "pygments_lexer": "ipython3",
   "version": "3.10.9"
  }
 },
 "nbformat": 4,
 "nbformat_minor": 5
}
